{
 "cells": [
  {
   "cell_type": "markdown",
   "id": "9e3ac746",
   "metadata": {},
   "source": [
    "### Projeto: Pipeline de dados\n",
    "\n",
    "**Professor**: Ms. Alex Lima\n",
    "\n",
    "UNIFOR: Engenhria de dados"
   ]
  },
  {
   "cell_type": "markdown",
   "id": "3a243b68",
   "metadata": {},
   "source": [
    "Construção de um projeto de pipeline de dados com python. O foco está em:\n",
    "\n",
    "- Modularização e Orientação a objetos\n",
    "- Tratamento de exceções\n",
    "- Decorators e padrões de projeto\n",
    "- Construção de pacotes python\n",
    "- Registro de status e logs em arquivo."
   ]
  },
  {
   "cell_type": "markdown",
   "id": "4b955b5a",
   "metadata": {},
   "source": [
    "### Estrutura do projeto\n",
    "\n",
    "Adapte esta estrutura para seu projeto"
   ]
  },
  {
   "cell_type": "raw",
   "id": "236aab57",
   "metadata": {},
   "source": [
    "pipeline/\n",
    "├── src/\n",
    "│   ├── main.py                # Executável principal\n",
    "│   ├── task.py                # Definição da classe base Task\n",
    "│   ├── pipeline.py            # Definição da classe Pipeline\n",
    "│   ├── tasks/\n",
    "│   │   ├── extrair.py         # Tarefa: Extração\n",
    "│   │   ├── transformar.py     # Tarefa: Transformação\n",
    "│   │   └── carregar.py        # Tarefa: Carga\n",
    "│   └── utils/\n",
    "│       └── logger.py          # Funções auxiliares (log, tempo, etc)\n",
    "├── data/\n",
    "│   ├── input.csv              # Dados de entrada simulados\\\n",
    "│   ├── stage.csv              # Dados processados\\\n",
    "│   └── output.csv             # Dados analíticos\n",
    "├── logs/\n",
    "│   └── execucao.log           # Log de execuções da pipeline\n",
    "├── dvc.yaml                   # **Opcional**: controle de versão dos dados\n",
    "├── .pre-commit-config.yaml    # **Opcional**: hooks de qualidade\n",
    "├── README.md\n",
    "└── requirements.txt           # Mesmo que vazio\n"
   ]
  },
  {
   "cell_type": "markdown",
   "id": "79523c9f",
   "metadata": {},
   "source": [
    "### Execução em terminal:\n",
    "\n",
    "```\n",
    "python src/main.py\n",
    "```\n",
    "\n",
    "### Saída esperada:\n",
    "\n",
    "``` .bat\n",
    "Executando tarefa: Extrair\n",
    "Tarefa Extrair finalizada com sucesso.\n",
    "\n",
    "Executando tarefa: Transformar\n",
    "Tarefa Transformar finalizada com sucesso.\n",
    "\n",
    "Executando tarefa: Carregar\n",
    "Tarefa Carregar finalizada com sucesso.\n",
    "```\n",
    "### Conteúdo do arquivo de log\n",
    "\n",
    "```python\n",
    "[2025-06-17 14:32:12] Extrair: OK - 0.002s\n",
    "[2025-06-17 14:32:12] Transformar: OK - 0.001s\n",
    "[2025-06-17 14:32:12] Carregar: OK - 0.001s\n"
   ]
  },
  {
   "cell_type": "markdown",
   "id": "fcb6914c",
   "metadata": {},
   "source": [
    "### Elaboração\n",
    "    Este é o projeto para avaliação de aprendizado da disciplina de Linguagens de programação. O projeto depode ser desenvolvido em dupla ou individual. \n",
    " - Os dados para a primeira etapa do projeto (`extração`) podem ser criados por meio de bibliotcas e podem estar em arquivos separados;\n",
    " - Os dados para a primeira etapa do projeto (`extração`) podem ser baixados de qualquer repositório ou API, podendo se originar em mais uma fonte; \n",
    " - Os arquivos podem ser de diferentes formatos (csv, parquet, feather, etc. ); \n",
    " - Os dados para as etapas seguintes a etapa de extração devem ser derivados das etapas anteriores, ou seja:\n",
    "\n",
    "    ```python \n",
    "        extração -> transformação -> carga\n",
    "    ```\n",
    "\n",
    " - Número mínimo de registros na etapa de extração (unindo todos os arquivos de dados): 10000 linhas\n",
    "\n",
    "### Submissão\n",
    "   O projeto deve ser submetido via ambiente virtual. A submissão deve conter o link de um repositório público do github com instruções sobre o projeto no README.\n",
    "     \n",
    "Pontuação:\n",
    " - Extração: 4 pontos\n",
    " - Transformação: 4 pontos\n",
    " - Carga: 2\n",
    "\n",
    "**Prazo para submissão**:25/06/2025"
   ]
  },
  {
   "cell_type": "code",
   "execution_count": null,
   "id": "74b7a0d9",
   "metadata": {},
   "outputs": [],
   "source": []
  }
 ],
 "metadata": {
  "kernelspec": {
   "display_name": "Python 3 (ipykernel)",
   "language": "python",
   "name": "python3"
  },
  "language_info": {
   "codemirror_mode": {
    "name": "ipython",
    "version": 3
   },
   "file_extension": ".py",
   "mimetype": "text/x-python",
   "name": "python",
   "nbconvert_exporter": "python",
   "pygments_lexer": "ipython3",
   "version": "3.12.7"
  }
 },
 "nbformat": 4,
 "nbformat_minor": 5
}
